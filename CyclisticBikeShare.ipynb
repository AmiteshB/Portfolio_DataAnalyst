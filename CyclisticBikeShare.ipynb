{
 "cells": [
  {
   "cell_type": "markdown",
   "metadata": {},
   "source": [
    "# Case Study: Cyclistic Bike-Share"
   ]
  },
  {
   "cell_type": "markdown",
   "metadata": {},
   "source": [
    "Amitesh 2024-06-10"
   ]
  },
  {
   "cell_type": "markdown",
   "metadata": {},
   "source": [
    "### About the Company\n",
    "Cyclistic is a bike sharing company that has a network of docking stations spread all across chicago. A bike can be picked up from any station and can be returned back to the same station or any other cyclistic station. They are known in the market for their versatility as they provide multiple price options and bike choices as per the needs and the convenience of their users."
   ]
  },
  {
   "cell_type": "markdown",
   "metadata": {},
   "source": [
    "### Deliverable: Business Task\n",
    "The director of marketing has a hypothesis that in order to grow their revenue they need people to purchase more annual memberships and for this to happen, they want to convert more casual customers to annual members. My team needs to figure out how casual and annual members use Cyclistic bikes differently so that we can create a new strategy for marketing. These insights need to be backed by data in order to get approval from the executive team.\n",
    "\n",
    "<b>Stakeholder Expectations</b>\n",
    "- Executive Team: Insights that are backed by real world data and can help to grow the company.\n",
    "- Director of marketing: Data driven evidence to back up her hypothesis and recommendations.\n"
   ]
  },
  {
   "cell_type": "markdown",
   "metadata": {},
   "source": [
    "### Deliverable: Collection and preparation of data\n",
    "\n",
    "<b>Understanding the dataset:</b>\n",
    "- Dataset Source: Data was provided through a repository held online.\n",
    "- Data Context: The data was collected to analyze it for potential insights regarding growth of the company.\n",
    "- Data Documentation: No documentation was provided about the data\n",
    "\n",
    "<b>Initial Data Exploration:</b>\n",
    "- Loading the data: Python programming language inside Visual Studio Code IDE was used to manipulate data was used to handle the data.\n",
    "- Data integration: Data was divided into twelve different datasets each representing a month’s worth of data. All of the datasets were combined together to form a single dataset representing a whole year.\n",
    "- Initial preview: After a first look at the data, the variables provided are of quantitative nature such as station name, ride id, rideable type, date and time, member type and more.\n",
    "\n",
    "<b>Data Quality Assessment:</b>\n",
    "- Reliable: Data is not 100% reliable since it contains missing values and inconsistencies.\n",
    "- Original: Dataset is original as it is provided by the organization handling bike shares.\n",
    "- Comprehensive: The dataset mostly contains everything required for the analysis.\n",
    "- Current: Time frame of the dataset is relevant to the analysis."
   ]
  },
  {
   "cell_type": "markdown",
   "metadata": {},
   "source": [
    "<b>Loading and Initial Inspection of data</b>"
   ]
  },
  {
   "cell_type": "code",
   "execution_count": 1,
   "metadata": {},
   "outputs": [],
   "source": [
    "import numpy as np\n",
    "import pandas as pd\n",
    "import matplotlib.pyplot as plt"
   ]
  },
  {
   "cell_type": "code",
   "execution_count": 2,
   "metadata": {},
   "outputs": [],
   "source": [
    "df_jan = pd.read_csv(r\"D:\\1.Work\\DataAnalytics\\Portfolio Projects\\Cyclistic Bike Share\\RawData\\JanDataRaw.csv\")\n",
    "df_feb = pd.read_csv(r\"D:\\1.Work\\DataAnalytics\\Portfolio Projects\\Cyclistic Bike Share\\RawData\\FebDataRaw.csv\")\n",
    "df_march = pd.read_csv(r\"D:\\1.Work\\DataAnalytics\\Portfolio Projects\\Cyclistic Bike Share\\RawData\\MarDataRaw.csv\")\n",
    "df_april = pd.read_csv(r\"D:\\1.Work\\DataAnalytics\\Portfolio Projects\\Cyclistic Bike Share\\RawData\\AprilDataRaw.csv\")\n",
    "df_may = pd.read_csv(r\"D:\\1.Work\\DataAnalytics\\Portfolio Projects\\Cyclistic Bike Share\\RawData\\MayDataRaw.csv\")\n",
    "df_june = pd.read_csv(r\"D:\\1.Work\\DataAnalytics\\Portfolio Projects\\Cyclistic Bike Share\\RawData\\JuneDataRaw.csv\")\n",
    "df_july = pd.read_csv(r\"D:\\1.Work\\DataAnalytics\\Portfolio Projects\\Cyclistic Bike Share\\RawData\\JulyDataRaw.csv\")\n",
    "df_aug = pd.read_csv(r\"D:\\1.Work\\DataAnalytics\\Portfolio Projects\\Cyclistic Bike Share\\RawData\\AugDataRaw.csv\")\n",
    "df_sept = pd.read_csv(r\"D:\\1.Work\\DataAnalytics\\Portfolio Projects\\Cyclistic Bike Share\\RawData\\SeptDataRaw.csv\")\n",
    "df_oct = pd.read_csv(r\"D:\\1.Work\\DataAnalytics\\Portfolio Projects\\Cyclistic Bike Share\\RawData\\OctDataRaw.csv\")\n",
    "df_nov = pd.read_csv(r\"D:\\1.Work\\DataAnalytics\\Portfolio Projects\\Cyclistic Bike Share\\RawData\\NovDataRaw.csv\")\n",
    "df_dec = pd.read_csv(r\"D:\\1.Work\\DataAnalytics\\Portfolio Projects\\Cyclistic Bike Share\\RawData\\DecDataRaw.csv\")"
   ]
  },
  {
   "cell_type": "code",
   "execution_count": 3,
   "metadata": {},
   "outputs": [
    {
     "name": "stdout",
     "output_type": "stream",
     "text": [
      "Total number of rows: 5719877\n"
     ]
    }
   ],
   "source": [
    "# Finding total number of rows from all the datasets\n",
    "data = [df_jan, df_feb, df_march, df_april, df_may, df_june, df_july, df_aug, df_sept, df_oct, df_nov, df_dec]\n",
    "\n",
    "rows = 0\n",
    "for x in range(0, len(data)):\n",
    "    dataframe = data[x]\n",
    "    rows = rows + dataframe.shape[0]\n",
    "\n",
    "print(\"Total number of rows:\",rows)"
   ]
  },
  {
   "cell_type": "code",
   "execution_count": 4,
   "metadata": {},
   "outputs": [
    {
     "name": "stdout",
     "output_type": "stream",
     "text": [
      "13 13 13 13 13 13 13 13 13 13 13 13 "
     ]
    }
   ],
   "source": [
    "# Checking if all the datasets have same number of columns\n",
    "for x in range(0, len(data)):\n",
    "    print(dataframe.shape[1], end=\" \")"
   ]
  },
  {
   "cell_type": "code",
   "execution_count": 5,
   "metadata": {},
   "outputs": [
    {
     "name": "stdout",
     "output_type": "stream",
     "text": [
      "(5719877, 13)\n"
     ]
    }
   ],
   "source": [
    "# Combining the data into a single dataframe\n",
    "CyclisticDataRaw = pd.concat(data)\n",
    "print(CyclisticDataRaw.shape)"
   ]
  },
  {
   "cell_type": "code",
   "execution_count": 6,
   "metadata": {},
   "outputs": [
    {
     "data": {
      "text/html": [
       "<div>\n",
       "<style scoped>\n",
       "    .dataframe tbody tr th:only-of-type {\n",
       "        vertical-align: middle;\n",
       "    }\n",
       "\n",
       "    .dataframe tbody tr th {\n",
       "        vertical-align: top;\n",
       "    }\n",
       "\n",
       "    .dataframe thead th {\n",
       "        text-align: right;\n",
       "    }\n",
       "</style>\n",
       "<table border=\"1\" class=\"dataframe\">\n",
       "  <thead>\n",
       "    <tr style=\"text-align: right;\">\n",
       "      <th></th>\n",
       "      <th>ride_id</th>\n",
       "      <th>rideable_type</th>\n",
       "      <th>started_at</th>\n",
       "      <th>ended_at</th>\n",
       "      <th>start_station_name</th>\n",
       "      <th>start_station_id</th>\n",
       "      <th>end_station_name</th>\n",
       "      <th>end_station_id</th>\n",
       "      <th>start_lat</th>\n",
       "      <th>start_lng</th>\n",
       "      <th>end_lat</th>\n",
       "      <th>end_lng</th>\n",
       "      <th>member_casual</th>\n",
       "    </tr>\n",
       "  </thead>\n",
       "  <tbody>\n",
       "    <tr>\n",
       "      <th>0</th>\n",
       "      <td>F96D5A74A3E41399</td>\n",
       "      <td>electric_bike</td>\n",
       "      <td>2023-01-21 20:05:42</td>\n",
       "      <td>2023-01-21 20:16:33</td>\n",
       "      <td>Lincoln Ave &amp; Fullerton Ave</td>\n",
       "      <td>TA1309000058</td>\n",
       "      <td>Hampden Ct &amp; Diversey Ave</td>\n",
       "      <td>202480.0</td>\n",
       "      <td>41.924074</td>\n",
       "      <td>-87.646278</td>\n",
       "      <td>41.930000</td>\n",
       "      <td>-87.640000</td>\n",
       "      <td>member</td>\n",
       "    </tr>\n",
       "    <tr>\n",
       "      <th>1</th>\n",
       "      <td>13CB7EB698CEDB88</td>\n",
       "      <td>classic_bike</td>\n",
       "      <td>2023-01-10 15:37:36</td>\n",
       "      <td>2023-01-10 15:46:05</td>\n",
       "      <td>Kimbark Ave &amp; 53rd St</td>\n",
       "      <td>TA1309000037</td>\n",
       "      <td>Greenwood Ave &amp; 47th St</td>\n",
       "      <td>TA1308000002</td>\n",
       "      <td>41.799568</td>\n",
       "      <td>-87.594747</td>\n",
       "      <td>41.809835</td>\n",
       "      <td>-87.599383</td>\n",
       "      <td>member</td>\n",
       "    </tr>\n",
       "    <tr>\n",
       "      <th>2</th>\n",
       "      <td>BD88A2E670661CE5</td>\n",
       "      <td>electric_bike</td>\n",
       "      <td>2023-01-02 07:51:57</td>\n",
       "      <td>2023-01-02 08:05:11</td>\n",
       "      <td>Western Ave &amp; Lunt Ave</td>\n",
       "      <td>RP-005</td>\n",
       "      <td>Valli Produce - Evanston Plaza</td>\n",
       "      <td>599</td>\n",
       "      <td>42.008571</td>\n",
       "      <td>-87.690483</td>\n",
       "      <td>42.039742</td>\n",
       "      <td>-87.699413</td>\n",
       "      <td>casual</td>\n",
       "    </tr>\n",
       "    <tr>\n",
       "      <th>3</th>\n",
       "      <td>C90792D034FED968</td>\n",
       "      <td>classic_bike</td>\n",
       "      <td>2023-01-22 10:52:58</td>\n",
       "      <td>2023-01-22 11:01:44</td>\n",
       "      <td>Kimbark Ave &amp; 53rd St</td>\n",
       "      <td>TA1309000037</td>\n",
       "      <td>Greenwood Ave &amp; 47th St</td>\n",
       "      <td>TA1308000002</td>\n",
       "      <td>41.799568</td>\n",
       "      <td>-87.594747</td>\n",
       "      <td>41.809835</td>\n",
       "      <td>-87.599383</td>\n",
       "      <td>member</td>\n",
       "    </tr>\n",
       "    <tr>\n",
       "      <th>4</th>\n",
       "      <td>3397017529188E8A</td>\n",
       "      <td>classic_bike</td>\n",
       "      <td>2023-01-12 13:58:01</td>\n",
       "      <td>2023-01-12 14:13:20</td>\n",
       "      <td>Kimbark Ave &amp; 53rd St</td>\n",
       "      <td>TA1309000037</td>\n",
       "      <td>Greenwood Ave &amp; 47th St</td>\n",
       "      <td>TA1308000002</td>\n",
       "      <td>41.799568</td>\n",
       "      <td>-87.594747</td>\n",
       "      <td>41.809835</td>\n",
       "      <td>-87.599383</td>\n",
       "      <td>member</td>\n",
       "    </tr>\n",
       "  </tbody>\n",
       "</table>\n",
       "</div>"
      ],
      "text/plain": [
       "            ride_id  rideable_type           started_at             ended_at  \\\n",
       "0  F96D5A74A3E41399  electric_bike  2023-01-21 20:05:42  2023-01-21 20:16:33   \n",
       "1  13CB7EB698CEDB88   classic_bike  2023-01-10 15:37:36  2023-01-10 15:46:05   \n",
       "2  BD88A2E670661CE5  electric_bike  2023-01-02 07:51:57  2023-01-02 08:05:11   \n",
       "3  C90792D034FED968   classic_bike  2023-01-22 10:52:58  2023-01-22 11:01:44   \n",
       "4  3397017529188E8A   classic_bike  2023-01-12 13:58:01  2023-01-12 14:13:20   \n",
       "\n",
       "            start_station_name start_station_id  \\\n",
       "0  Lincoln Ave & Fullerton Ave     TA1309000058   \n",
       "1        Kimbark Ave & 53rd St     TA1309000037   \n",
       "2       Western Ave & Lunt Ave           RP-005   \n",
       "3        Kimbark Ave & 53rd St     TA1309000037   \n",
       "4        Kimbark Ave & 53rd St     TA1309000037   \n",
       "\n",
       "                 end_station_name end_station_id  start_lat  start_lng  \\\n",
       "0       Hampden Ct & Diversey Ave       202480.0  41.924074 -87.646278   \n",
       "1         Greenwood Ave & 47th St   TA1308000002  41.799568 -87.594747   \n",
       "2  Valli Produce - Evanston Plaza            599  42.008571 -87.690483   \n",
       "3         Greenwood Ave & 47th St   TA1308000002  41.799568 -87.594747   \n",
       "4         Greenwood Ave & 47th St   TA1308000002  41.799568 -87.594747   \n",
       "\n",
       "     end_lat    end_lng member_casual  \n",
       "0  41.930000 -87.640000        member  \n",
       "1  41.809835 -87.599383        member  \n",
       "2  42.039742 -87.699413        casual  \n",
       "3  41.809835 -87.599383        member  \n",
       "4  41.809835 -87.599383        member  "
      ]
     },
     "execution_count": 6,
     "metadata": {},
     "output_type": "execute_result"
    }
   ],
   "source": [
    "CyclisticDataRaw.head()"
   ]
  },
  {
   "cell_type": "code",
   "execution_count": 8,
   "metadata": {},
   "outputs": [
    {
     "data": {
      "text/html": [
       "<div>\n",
       "<style scoped>\n",
       "    .dataframe tbody tr th:only-of-type {\n",
       "        vertical-align: middle;\n",
       "    }\n",
       "\n",
       "    .dataframe tbody tr th {\n",
       "        vertical-align: top;\n",
       "    }\n",
       "\n",
       "    .dataframe thead th {\n",
       "        text-align: right;\n",
       "    }\n",
       "</style>\n",
       "<table border=\"1\" class=\"dataframe\">\n",
       "  <thead>\n",
       "    <tr style=\"text-align: right;\">\n",
       "      <th></th>\n",
       "      <th>ride_id</th>\n",
       "      <th>rideable_type</th>\n",
       "      <th>started_at</th>\n",
       "      <th>ended_at</th>\n",
       "      <th>start_station_name</th>\n",
       "      <th>start_station_id</th>\n",
       "      <th>end_station_name</th>\n",
       "      <th>end_station_id</th>\n",
       "      <th>start_lat</th>\n",
       "      <th>start_lng</th>\n",
       "      <th>end_lat</th>\n",
       "      <th>end_lng</th>\n",
       "      <th>member_casual</th>\n",
       "    </tr>\n",
       "  </thead>\n",
       "  <tbody>\n",
       "    <tr>\n",
       "      <th>224068</th>\n",
       "      <td>F74DF9549B504A6B</td>\n",
       "      <td>electric_bike</td>\n",
       "      <td>2023-12-07 13:15:24</td>\n",
       "      <td>2023-12-07 13:17:37</td>\n",
       "      <td>900 W Harrison St</td>\n",
       "      <td>13028</td>\n",
       "      <td>Racine Ave &amp; Congress Pkwy</td>\n",
       "      <td>TA1306000025</td>\n",
       "      <td>41.874702</td>\n",
       "      <td>-87.649804</td>\n",
       "      <td>41.874640</td>\n",
       "      <td>-87.657030</td>\n",
       "      <td>casual</td>\n",
       "    </tr>\n",
       "    <tr>\n",
       "      <th>224069</th>\n",
       "      <td>BCDA66E761CC1029</td>\n",
       "      <td>classic_bike</td>\n",
       "      <td>2023-12-08 18:42:21</td>\n",
       "      <td>2023-12-08 18:45:56</td>\n",
       "      <td>900 W Harrison St</td>\n",
       "      <td>13028</td>\n",
       "      <td>Racine Ave &amp; Congress Pkwy</td>\n",
       "      <td>TA1306000025</td>\n",
       "      <td>41.874754</td>\n",
       "      <td>-87.649807</td>\n",
       "      <td>41.874640</td>\n",
       "      <td>-87.657030</td>\n",
       "      <td>casual</td>\n",
       "    </tr>\n",
       "    <tr>\n",
       "      <th>224070</th>\n",
       "      <td>D2CF330F9C266683</td>\n",
       "      <td>classic_bike</td>\n",
       "      <td>2023-12-05 14:09:11</td>\n",
       "      <td>2023-12-05 14:13:01</td>\n",
       "      <td>900 W Harrison St</td>\n",
       "      <td>13028</td>\n",
       "      <td>Racine Ave &amp; Congress Pkwy</td>\n",
       "      <td>TA1306000025</td>\n",
       "      <td>41.874754</td>\n",
       "      <td>-87.649807</td>\n",
       "      <td>41.874640</td>\n",
       "      <td>-87.657030</td>\n",
       "      <td>member</td>\n",
       "    </tr>\n",
       "    <tr>\n",
       "      <th>224071</th>\n",
       "      <td>3829A0D1E00EE970</td>\n",
       "      <td>electric_bike</td>\n",
       "      <td>2023-12-02 21:36:07</td>\n",
       "      <td>2023-12-02 21:53:45</td>\n",
       "      <td>Damen Ave &amp; Madison St</td>\n",
       "      <td>13134</td>\n",
       "      <td>Morgan St &amp; Lake St*</td>\n",
       "      <td>chargingstx4</td>\n",
       "      <td>41.881396</td>\n",
       "      <td>-87.674984</td>\n",
       "      <td>41.885492</td>\n",
       "      <td>-87.652289</td>\n",
       "      <td>casual</td>\n",
       "    </tr>\n",
       "    <tr>\n",
       "      <th>224072</th>\n",
       "      <td>A373F5B447AEA508</td>\n",
       "      <td>classic_bike</td>\n",
       "      <td>2023-12-11 13:07:46</td>\n",
       "      <td>2023-12-11 13:11:24</td>\n",
       "      <td>900 W Harrison St</td>\n",
       "      <td>13028</td>\n",
       "      <td>Racine Ave &amp; Congress Pkwy</td>\n",
       "      <td>TA1306000025</td>\n",
       "      <td>41.874754</td>\n",
       "      <td>-87.649807</td>\n",
       "      <td>41.874640</td>\n",
       "      <td>-87.657030</td>\n",
       "      <td>member</td>\n",
       "    </tr>\n",
       "  </tbody>\n",
       "</table>\n",
       "</div>"
      ],
      "text/plain": [
       "                 ride_id  rideable_type           started_at  \\\n",
       "224068  F74DF9549B504A6B  electric_bike  2023-12-07 13:15:24   \n",
       "224069  BCDA66E761CC1029   classic_bike  2023-12-08 18:42:21   \n",
       "224070  D2CF330F9C266683   classic_bike  2023-12-05 14:09:11   \n",
       "224071  3829A0D1E00EE970  electric_bike  2023-12-02 21:36:07   \n",
       "224072  A373F5B447AEA508   classic_bike  2023-12-11 13:07:46   \n",
       "\n",
       "                   ended_at      start_station_name start_station_id  \\\n",
       "224068  2023-12-07 13:17:37       900 W Harrison St            13028   \n",
       "224069  2023-12-08 18:45:56       900 W Harrison St            13028   \n",
       "224070  2023-12-05 14:13:01       900 W Harrison St            13028   \n",
       "224071  2023-12-02 21:53:45  Damen Ave & Madison St            13134   \n",
       "224072  2023-12-11 13:11:24       900 W Harrison St            13028   \n",
       "\n",
       "                  end_station_name end_station_id  start_lat  start_lng  \\\n",
       "224068  Racine Ave & Congress Pkwy   TA1306000025  41.874702 -87.649804   \n",
       "224069  Racine Ave & Congress Pkwy   TA1306000025  41.874754 -87.649807   \n",
       "224070  Racine Ave & Congress Pkwy   TA1306000025  41.874754 -87.649807   \n",
       "224071        Morgan St & Lake St*   chargingstx4  41.881396 -87.674984   \n",
       "224072  Racine Ave & Congress Pkwy   TA1306000025  41.874754 -87.649807   \n",
       "\n",
       "          end_lat    end_lng member_casual  \n",
       "224068  41.874640 -87.657030        casual  \n",
       "224069  41.874640 -87.657030        casual  \n",
       "224070  41.874640 -87.657030        member  \n",
       "224071  41.885492 -87.652289        casual  \n",
       "224072  41.874640 -87.657030        member  "
      ]
     },
     "execution_count": 8,
     "metadata": {},
     "output_type": "execute_result"
    }
   ],
   "source": [
    "CyclisticDataRaw.tail()"
   ]
  },
  {
   "cell_type": "markdown",
   "metadata": {},
   "source": [
    "There is something interesting to notice here. We know that our dataframe has more than 5 million records but if we pay attention to the index of the last record shown above, it ends at 224k. This suggests that there might a problem of duplicate indexes so let us solve it now."
   ]
  },
  {
   "cell_type": "code",
   "execution_count": 9,
   "metadata": {},
   "outputs": [],
   "source": [
    "# Fixing duplicated indexes\n",
    "CyclisticDataRaw = CyclisticDataRaw.reset_index(drop=True)"
   ]
  },
  {
   "cell_type": "code",
   "execution_count": 13,
   "metadata": {},
   "outputs": [
    {
     "data": {
      "text/html": [
       "<div>\n",
       "<style scoped>\n",
       "    .dataframe tbody tr th:only-of-type {\n",
       "        vertical-align: middle;\n",
       "    }\n",
       "\n",
       "    .dataframe tbody tr th {\n",
       "        vertical-align: top;\n",
       "    }\n",
       "\n",
       "    .dataframe thead th {\n",
       "        text-align: right;\n",
       "    }\n",
       "</style>\n",
       "<table border=\"1\" class=\"dataframe\">\n",
       "  <thead>\n",
       "    <tr style=\"text-align: right;\">\n",
       "      <th></th>\n",
       "      <th>ride_id</th>\n",
       "      <th>rideable_type</th>\n",
       "      <th>started_at</th>\n",
       "      <th>ended_at</th>\n",
       "      <th>start_station_name</th>\n",
       "      <th>start_station_id</th>\n",
       "      <th>end_station_name</th>\n",
       "      <th>end_station_id</th>\n",
       "      <th>start_lat</th>\n",
       "      <th>start_lng</th>\n",
       "      <th>end_lat</th>\n",
       "      <th>end_lng</th>\n",
       "      <th>member_casual</th>\n",
       "    </tr>\n",
       "  </thead>\n",
       "  <tbody>\n",
       "    <tr>\n",
       "      <th>5719872</th>\n",
       "      <td>F74DF9549B504A6B</td>\n",
       "      <td>electric_bike</td>\n",
       "      <td>2023-12-07 13:15:24</td>\n",
       "      <td>2023-12-07 13:17:37</td>\n",
       "      <td>900 W Harrison St</td>\n",
       "      <td>13028</td>\n",
       "      <td>Racine Ave &amp; Congress Pkwy</td>\n",
       "      <td>TA1306000025</td>\n",
       "      <td>41.874702</td>\n",
       "      <td>-87.649804</td>\n",
       "      <td>41.874640</td>\n",
       "      <td>-87.657030</td>\n",
       "      <td>casual</td>\n",
       "    </tr>\n",
       "    <tr>\n",
       "      <th>5719873</th>\n",
       "      <td>BCDA66E761CC1029</td>\n",
       "      <td>classic_bike</td>\n",
       "      <td>2023-12-08 18:42:21</td>\n",
       "      <td>2023-12-08 18:45:56</td>\n",
       "      <td>900 W Harrison St</td>\n",
       "      <td>13028</td>\n",
       "      <td>Racine Ave &amp; Congress Pkwy</td>\n",
       "      <td>TA1306000025</td>\n",
       "      <td>41.874754</td>\n",
       "      <td>-87.649807</td>\n",
       "      <td>41.874640</td>\n",
       "      <td>-87.657030</td>\n",
       "      <td>casual</td>\n",
       "    </tr>\n",
       "    <tr>\n",
       "      <th>5719874</th>\n",
       "      <td>D2CF330F9C266683</td>\n",
       "      <td>classic_bike</td>\n",
       "      <td>2023-12-05 14:09:11</td>\n",
       "      <td>2023-12-05 14:13:01</td>\n",
       "      <td>900 W Harrison St</td>\n",
       "      <td>13028</td>\n",
       "      <td>Racine Ave &amp; Congress Pkwy</td>\n",
       "      <td>TA1306000025</td>\n",
       "      <td>41.874754</td>\n",
       "      <td>-87.649807</td>\n",
       "      <td>41.874640</td>\n",
       "      <td>-87.657030</td>\n",
       "      <td>member</td>\n",
       "    </tr>\n",
       "    <tr>\n",
       "      <th>5719875</th>\n",
       "      <td>3829A0D1E00EE970</td>\n",
       "      <td>electric_bike</td>\n",
       "      <td>2023-12-02 21:36:07</td>\n",
       "      <td>2023-12-02 21:53:45</td>\n",
       "      <td>Damen Ave &amp; Madison St</td>\n",
       "      <td>13134</td>\n",
       "      <td>Morgan St &amp; Lake St*</td>\n",
       "      <td>chargingstx4</td>\n",
       "      <td>41.881396</td>\n",
       "      <td>-87.674984</td>\n",
       "      <td>41.885492</td>\n",
       "      <td>-87.652289</td>\n",
       "      <td>casual</td>\n",
       "    </tr>\n",
       "    <tr>\n",
       "      <th>5719876</th>\n",
       "      <td>A373F5B447AEA508</td>\n",
       "      <td>classic_bike</td>\n",
       "      <td>2023-12-11 13:07:46</td>\n",
       "      <td>2023-12-11 13:11:24</td>\n",
       "      <td>900 W Harrison St</td>\n",
       "      <td>13028</td>\n",
       "      <td>Racine Ave &amp; Congress Pkwy</td>\n",
       "      <td>TA1306000025</td>\n",
       "      <td>41.874754</td>\n",
       "      <td>-87.649807</td>\n",
       "      <td>41.874640</td>\n",
       "      <td>-87.657030</td>\n",
       "      <td>member</td>\n",
       "    </tr>\n",
       "  </tbody>\n",
       "</table>\n",
       "</div>"
      ],
      "text/plain": [
       "                  ride_id  rideable_type           started_at  \\\n",
       "5719872  F74DF9549B504A6B  electric_bike  2023-12-07 13:15:24   \n",
       "5719873  BCDA66E761CC1029   classic_bike  2023-12-08 18:42:21   \n",
       "5719874  D2CF330F9C266683   classic_bike  2023-12-05 14:09:11   \n",
       "5719875  3829A0D1E00EE970  electric_bike  2023-12-02 21:36:07   \n",
       "5719876  A373F5B447AEA508   classic_bike  2023-12-11 13:07:46   \n",
       "\n",
       "                    ended_at      start_station_name start_station_id  \\\n",
       "5719872  2023-12-07 13:17:37       900 W Harrison St            13028   \n",
       "5719873  2023-12-08 18:45:56       900 W Harrison St            13028   \n",
       "5719874  2023-12-05 14:13:01       900 W Harrison St            13028   \n",
       "5719875  2023-12-02 21:53:45  Damen Ave & Madison St            13134   \n",
       "5719876  2023-12-11 13:11:24       900 W Harrison St            13028   \n",
       "\n",
       "                   end_station_name end_station_id  start_lat  start_lng  \\\n",
       "5719872  Racine Ave & Congress Pkwy   TA1306000025  41.874702 -87.649804   \n",
       "5719873  Racine Ave & Congress Pkwy   TA1306000025  41.874754 -87.649807   \n",
       "5719874  Racine Ave & Congress Pkwy   TA1306000025  41.874754 -87.649807   \n",
       "5719875        Morgan St & Lake St*   chargingstx4  41.881396 -87.674984   \n",
       "5719876  Racine Ave & Congress Pkwy   TA1306000025  41.874754 -87.649807   \n",
       "\n",
       "           end_lat    end_lng member_casual  \n",
       "5719872  41.874640 -87.657030        casual  \n",
       "5719873  41.874640 -87.657030        casual  \n",
       "5719874  41.874640 -87.657030        member  \n",
       "5719875  41.885492 -87.652289        casual  \n",
       "5719876  41.874640 -87.657030        member  "
      ]
     },
     "execution_count": 13,
     "metadata": {},
     "output_type": "execute_result"
    }
   ],
   "source": [
    "CyclisticDataRaw.tail()"
   ]
  },
  {
   "cell_type": "markdown",
   "metadata": {},
   "source": [
    "As it can be seen now, the index ranges from 0 to 5719876 which correctly represents each row in our dataframe."
   ]
  },
  {
   "cell_type": "code",
   "execution_count": 15,
   "metadata": {},
   "outputs": [
    {
     "name": "stdout",
     "output_type": "stream",
     "text": [
      "<class 'pandas.core.frame.DataFrame'>\n",
      "RangeIndex: 5719877 entries, 0 to 5719876\n",
      "Data columns (total 13 columns):\n",
      " #   Column              Dtype  \n",
      "---  ------              -----  \n",
      " 0   ride_id             object \n",
      " 1   rideable_type       object \n",
      " 2   started_at          object \n",
      " 3   ended_at            object \n",
      " 4   start_station_name  object \n",
      " 5   start_station_id    object \n",
      " 6   end_station_name    object \n",
      " 7   end_station_id      object \n",
      " 8   start_lat           float64\n",
      " 9   start_lng           float64\n",
      " 10  end_lat             float64\n",
      " 11  end_lng             float64\n",
      " 12  member_casual       object \n",
      "dtypes: float64(4), object(9)\n",
      "memory usage: 567.3+ MB\n"
     ]
    }
   ],
   "source": [
    "CyclisticDataRaw.info()"
   ]
  },
  {
   "cell_type": "markdown",
   "metadata": {},
   "source": [
    "Here we can see the datatypes of all the columns. The datatypes for the columns \"started_at\" and \"ended_at\" are shown as object but we know that it stores date and time so it will be better if these columns are converted to a datetime format. Let's do that now."
   ]
  },
  {
   "cell_type": "code",
   "execution_count": 16,
   "metadata": {},
   "outputs": [
    {
     "name": "stdout",
     "output_type": "stream",
     "text": [
      "<class 'pandas.core.frame.DataFrame'>\n",
      "RangeIndex: 5719877 entries, 0 to 5719876\n",
      "Data columns (total 13 columns):\n",
      " #   Column              Dtype         \n",
      "---  ------              -----         \n",
      " 0   ride_id             object        \n",
      " 1   rideable_type       object        \n",
      " 2   started_at          datetime64[ns]\n",
      " 3   ended_at            datetime64[ns]\n",
      " 4   start_station_name  object        \n",
      " 5   start_station_id    object        \n",
      " 6   end_station_name    object        \n",
      " 7   end_station_id      object        \n",
      " 8   start_lat           float64       \n",
      " 9   start_lng           float64       \n",
      " 10  end_lat             float64       \n",
      " 11  end_lng             float64       \n",
      " 12  member_casual       object        \n",
      "dtypes: datetime64[ns](2), float64(4), object(7)\n",
      "memory usage: 567.3+ MB\n"
     ]
    }
   ],
   "source": [
    "CyclisticDataRaw[\"started_at\"] = pd.to_datetime(CyclisticDataRaw[\"started_at\"])\n",
    "CyclisticDataRaw[\"ended_at\"] = pd.to_datetime(CyclisticDataRaw[\"ended_at\"])\n",
    "CyclisticDataRaw.info()"
   ]
  },
  {
   "cell_type": "markdown",
   "metadata": {},
   "source": [
    "Both the columns have now been converted to the correct datatypes."
   ]
  },
  {
   "cell_type": "markdown",
   "metadata": {},
   "source": [
    "### Deliverable: Processing the Data"
   ]
  },
  {
   "cell_type": "markdown",
   "metadata": {},
   "source": [
    "<b> Handling missing values</b>"
   ]
  },
  {
   "cell_type": "code",
   "execution_count": 17,
   "metadata": {},
   "outputs": [
    {
     "name": "stdout",
     "output_type": "stream",
     "text": [
      "Rows with missing values: 1388170\n"
     ]
    }
   ],
   "source": [
    "# Total number of rows with null values\n",
    "print(\"Rows with missing values:\",CyclisticDataRaw.isnull().any(axis=1).sum())"
   ]
  },
  {
   "cell_type": "markdown",
   "metadata": {},
   "source": [
    "More than 1.3 million records out of the total 5.7 million have 1 or more missing values. This figure makes about 25% of our data set so omitting all these rows is not advised. Let’s investigate this further by identifying which columns have the most missing values."
   ]
  },
  {
   "cell_type": "code",
   "execution_count": 18,
   "metadata": {},
   "outputs": [
    {
     "data": {
      "text/plain": [
       "ride_id                    0\n",
       "rideable_type              0\n",
       "started_at                 0\n",
       "ended_at                   0\n",
       "start_station_name    875716\n",
       "start_station_id      875848\n",
       "end_station_name      929202\n",
       "end_station_id        929343\n",
       "start_lat                  0\n",
       "start_lng                  0\n",
       "end_lat                 6990\n",
       "end_lng                 6990\n",
       "member_casual              0\n",
       "dtype: int64"
      ]
     },
     "execution_count": 18,
     "metadata": {},
     "output_type": "execute_result"
    }
   ],
   "source": [
    "# Null values per column\n",
    "CyclisticDataRaw.isnull().sum()"
   ]
  },
  {
   "cell_type": "markdown",
   "metadata": {},
   "source": [
    "The result shows that most of the missing values are in the form of station names and station ids. There are three ways we can approach this issue:\n",
    "\n",
    "- Filling in the values: This is the best approach since it lets us keep all the existing data and fill out any holes that it currently has but this path is not actionable in this scenario as I have no way of finding the values to replace the missing ones or contacting the agency that provided this data for any information.\n",
    "\n",
    "- Omitting records with null values: This is the most common practice as it gets rid of incomplete data and makes the analysis more accurate whereas in this scenario, the incomplete records account for more than 50% of our data set and deleting them would negatively impact the overall relevance and accuracy of our analysis.\n",
    "\n",
    "- Keep the data as it is: This approach seems the most profitable in this scenario as not deleting the data will help in the overall accuracy of this analysis. Moreover as most of the null values are station names and ids, it will only partially affect that part of our analysis where we take station names and ids into consideration."
   ]
  },
  {
   "cell_type": "markdown",
   "metadata": {},
   "source": [
    "<b>Checking for Duplicates </b>"
   ]
  },
  {
   "cell_type": "code",
   "execution_count": 19,
   "metadata": {},
   "outputs": [
    {
     "name": "stdout",
     "output_type": "stream",
     "text": [
      "Rows with duplicates: 0\n"
     ]
    }
   ],
   "source": [
    "print(\"Rows with duplicates:\",CyclisticDataRaw.duplicated().sum())"
   ]
  },
  {
   "cell_type": "markdown",
   "metadata": {},
   "source": [
    "The result shows that there are no duplicates in the data set."
   ]
  },
  {
   "cell_type": "markdown",
   "metadata": {},
   "source": [
    "<b>Extracting useful data</b>\n",
    "\n",
    "We’ll extract specific information out of the given data to gain deeper insights and help us during analysis. We will create 3 data columns: \n",
    "- Month: Month which the trip data belongs to\n",
    "- Day of the week: Day of the week when the trip happened\n",
    "- Hour: What time during the day the trips occur\n",
    "- Trip duration: Duration of the trip\n",
    "\n",
    "These month and day values will help us in finding out which months and days are the busiest ones. Trip duration will help us to find out the average trip duration.\n",
    "\n",
    "Before we extract the data, it is important to know that the month and day data can be extracted in either character form where it will say the name of the day and the month or it can be extracted in the form of numeric values where it will give us numbers from 1-12 for each month from January to December and 1-7 for each day from Monday to Sunday. Since we need to use this data to perform mathematical operations on it, we will extract it in the numeric form for now and later convert it to characters so that it can be used to create graphs with correct labels."
   ]
  },
  {
   "cell_type": "code",
   "execution_count": 165,
   "metadata": {},
   "outputs": [],
   "source": [
    "CyclisticDataRaw[\"month\"] = CyclisticDataRaw[\"started_at\"].dt.month_name() # extract month\n",
    "\n",
    "CyclisticDataRaw[\"day_of_week\"] = CyclisticDataRaw[\"started_at\"].dt.day_name() # extract day\n",
    "\n",
    "CyclisticDataRaw[\"hour\"] = CyclisticDataRaw[\"started_at\"].dt.hour # extract hour"
   ]
  },
  {
   "cell_type": "code",
   "execution_count": 93,
   "metadata": {},
   "outputs": [
    {
     "name": "stdout",
     "output_type": "stream",
     "text": [
      "<class 'pandas.core.frame.DataFrame'>\n",
      "RangeIndex: 5718608 entries, 0 to 5718607\n",
      "Data columns (total 17 columns):\n",
      " #   Column              Dtype         \n",
      "---  ------              -----         \n",
      " 0   ride_id             object        \n",
      " 1   rideable_type       object        \n",
      " 2   started_at          datetime64[ns]\n",
      " 3   ended_at            datetime64[ns]\n",
      " 4   start_station_name  object        \n",
      " 5   start_station_id    object        \n",
      " 6   end_station_name    object        \n",
      " 7   end_station_id      object        \n",
      " 8   start_lat           float64       \n",
      " 9   start_lng           float64       \n",
      " 10  end_lat             float64       \n",
      " 11  end_lng             float64       \n",
      " 12  member_casual       object        \n",
      " 13  month               int32         \n",
      " 14  day_of_week         int32         \n",
      " 15  hour                int32         \n",
      " 16  duration            float64       \n",
      "dtypes: datetime64[ns](2), float64(5), int32(3), object(7)\n",
      "memory usage: 676.3+ MB\n"
     ]
    }
   ],
   "source": [
    "CyclisticDataRaw.info()"
   ]
  },
  {
   "cell_type": "code",
   "execution_count": 101,
   "metadata": {},
   "outputs": [
    {
     "name": "stdout",
     "output_type": "stream",
     "text": [
      "Months:\n",
      " ['January' 'February' 'March' 'April' 'May' 'June' 'July' 'August'\n",
      " 'September' 'October' 'November' 'December']\n",
      "\n",
      "Days:\n",
      " ['Friday' 'Monday' 'Saturday' 'Sunday' 'Thursday' 'Tuesday' 'Wednesday']\n",
      "\n",
      "Hours:\n",
      " [ 0  1  2  3  4  5  6  7  8  9 10 11 12 13 14 15 16 17 18 19 20 21 22 23]\n"
     ]
    }
   ],
   "source": [
    "# checking new values\n",
    "print(\"Months:\\n\",CyclisticDataRaw[\"month\"].unique())\n",
    "print(\"\\nDays:\\n\",np.sort(CyclisticDataRaw[\"day_of_week\"].unique()))\n",
    "print(\"\\nHours:\\n\",np.sort(CyclisticDataRaw[\"hour\"].unique()))"
   ]
  },
  {
   "cell_type": "markdown",
   "metadata": {},
   "source": [
    "The output above verifies that the month, day and hour values that we have extracted are correct and within range of what they should be.\n"
   ]
  },
  {
   "cell_type": "code",
   "execution_count": 23,
   "metadata": {},
   "outputs": [],
   "source": [
    "# calculating ride duration\n",
    "CyclisticDataRaw[\"duration\"] = CyclisticDataRaw[\"ended_at\"] - CyclisticDataRaw[\"started_at\"]"
   ]
  },
  {
   "cell_type": "code",
   "execution_count": 25,
   "metadata": {},
   "outputs": [
    {
     "data": {
      "text/plain": [
       "0    0 days 00:10:51\n",
       "1    0 days 00:08:29\n",
       "2    0 days 00:13:14\n",
       "3    0 days 00:08:46\n",
       "4    0 days 00:15:19\n",
       "5    0 days 00:03:13\n",
       "6    0 days 00:14:00\n",
       "7    0 days 00:09:21\n",
       "8    0 days 00:12:27\n",
       "9    0 days 00:12:33\n",
       "10   0 days 00:09:49\n",
       "11   0 days 00:09:22\n",
       "12   0 days 00:07:40\n",
       "13   0 days 00:09:57\n",
       "14   0 days 00:04:35\n",
       "15   0 days 00:06:38\n",
       "16   0 days 00:02:30\n",
       "17   0 days 00:15:16\n",
       "18   0 days 00:16:02\n",
       "19   0 days 00:48:49\n",
       "Name: duration, dtype: timedelta64[ns]"
      ]
     },
     "execution_count": 25,
     "metadata": {},
     "output_type": "execute_result"
    }
   ],
   "source": [
    "CyclisticDataRaw[\"duration\"].head(20)"
   ]
  },
  {
   "cell_type": "code",
   "execution_count": 26,
   "metadata": {},
   "outputs": [
    {
     "data": {
      "text/plain": [
       "0     10.85\n",
       "1      8.48\n",
       "2     13.23\n",
       "3      8.77\n",
       "4     15.32\n",
       "5      3.22\n",
       "6     14.00\n",
       "7      9.35\n",
       "8     12.45\n",
       "9     12.55\n",
       "10     9.82\n",
       "11     9.37\n",
       "12     7.67\n",
       "13     9.95\n",
       "14     4.58\n",
       "15     6.63\n",
       "16     2.50\n",
       "17    15.27\n",
       "18    16.03\n",
       "19    48.82\n",
       "Name: duration, dtype: float64"
      ]
     },
     "execution_count": 26,
     "metadata": {},
     "output_type": "execute_result"
    }
   ],
   "source": [
    "# Formatting ride duration value to show only minutes\n",
    "CyclisticDataRaw[\"duration\"] = round(CyclisticDataRaw[\"duration\"].dt.total_seconds()/60,2)\n",
    "CyclisticDataRaw[\"duration\"].head(20)"
   ]
  },
  {
   "cell_type": "code",
   "execution_count": 27,
   "metadata": {},
   "outputs": [
    {
     "name": "stdout",
     "output_type": "stream",
     "text": [
      "Rows with Duration less than or equal to 0:\n",
      "1269\n"
     ]
    }
   ],
   "source": [
    "# finding records with ride duration value less than or equal to 0\n",
    "print(f\"Rows with Duration less than or equal to 0:\\n{CyclisticDataRaw[\"duration\"][CyclisticDataRaw[\"duration\"] <= 0].count()}\")"
   ]
  },
  {
   "cell_type": "markdown",
   "metadata": {},
   "source": [
    "These records are very less when compared to the size of our dataset so they can easily be removed."
   ]
  },
  {
   "cell_type": "code",
   "execution_count": 89,
   "metadata": {},
   "outputs": [
    {
     "name": "stdout",
     "output_type": "stream",
     "text": [
      "<class 'pandas.core.frame.DataFrame'>\n",
      "RangeIndex: 5718608 entries, 0 to 5718607\n",
      "Data columns (total 17 columns):\n",
      " #   Column              Dtype         \n",
      "---  ------              -----         \n",
      " 0   ride_id             object        \n",
      " 1   rideable_type       object        \n",
      " 2   started_at          datetime64[ns]\n",
      " 3   ended_at            datetime64[ns]\n",
      " 4   start_station_name  object        \n",
      " 5   start_station_id    object        \n",
      " 6   end_station_name    object        \n",
      " 7   end_station_id      object        \n",
      " 8   start_lat           float64       \n",
      " 9   start_lng           float64       \n",
      " 10  end_lat             float64       \n",
      " 11  end_lng             float64       \n",
      " 12  member_casual       object        \n",
      " 13  month               int32         \n",
      " 14  day_of_week         int32         \n",
      " 15  hour                int32         \n",
      " 16  duration            float64       \n",
      "dtypes: datetime64[ns](2), float64(5), int32(3), object(7)\n",
      "memory usage: 676.3+ MB\n"
     ]
    }
   ],
   "source": [
    "# removing rows where duration is less than 0\n",
    "CyclisticDataRaw = CyclisticDataRaw[CyclisticDataRaw[\"duration\"] > 0]\n",
    "CyclisticDataRaw.info()"
   ]
  },
  {
   "cell_type": "code",
   "execution_count": 29,
   "metadata": {},
   "outputs": [],
   "source": [
    "# Resetting index again\n",
    "CyclisticDataRaw = CyclisticDataRaw.reset_index(drop=True)"
   ]
  },
  {
   "cell_type": "code",
   "execution_count": 30,
   "metadata": {},
   "outputs": [
    {
     "name": "stdout",
     "output_type": "stream",
     "text": [
      "<class 'pandas.core.frame.DataFrame'>\n",
      "RangeIndex: 5718608 entries, 0 to 5718607\n",
      "Data columns (total 17 columns):\n",
      " #   Column              Dtype         \n",
      "---  ------              -----         \n",
      " 0   ride_id             object        \n",
      " 1   rideable_type       object        \n",
      " 2   started_at          datetime64[ns]\n",
      " 3   ended_at            datetime64[ns]\n",
      " 4   start_station_name  object        \n",
      " 5   start_station_id    object        \n",
      " 6   end_station_name    object        \n",
      " 7   end_station_id      object        \n",
      " 8   start_lat           float64       \n",
      " 9   start_lng           float64       \n",
      " 10  end_lat             float64       \n",
      " 11  end_lng             float64       \n",
      " 12  member_casual       object        \n",
      " 13  month               object        \n",
      " 14  day_of_week         object        \n",
      " 15  hour                int32         \n",
      " 16  duration            float64       \n",
      "dtypes: datetime64[ns](2), float64(5), int32(1), object(9)\n",
      "memory usage: 719.9+ MB\n"
     ]
    }
   ],
   "source": [
    "CyclisticDataRaw.info()"
   ]
  },
  {
   "cell_type": "markdown",
   "metadata": {},
   "source": [
    "We have now created all the columns required for the analysis in this project and also cleaned the data of any records which were wrongfully showing negative ride duration values. The data is now ready for analysis which will be performed in the next step."
   ]
  },
  {
   "cell_type": "markdown",
   "metadata": {},
   "source": [
    "### Deliverable: Performing analysis on the data"
   ]
  },
  {
   "cell_type": "markdown",
   "metadata": {},
   "source": [
    "#### Average trip duration per user type"
   ]
  },
  {
   "cell_type": "code",
   "execution_count": 90,
   "metadata": {},
   "outputs": [
    {
     "data": {
      "text/plain": [
       "member_casual\n",
       "casual    28.25\n",
       "member    12.53\n",
       "Name: duration, dtype: float64"
      ]
     },
     "execution_count": 90,
     "metadata": {},
     "output_type": "execute_result"
    }
   ],
   "source": [
    "# finding average trip duration per user type\n",
    "round(CyclisticDataRaw.groupby(\"member_casual\")[\"duration\"].mean(),2)"
   ]
  },
  {
   "cell_type": "markdown",
   "metadata": {},
   "source": [
    "This shows that casual users rent bikes for an average of 2.3 times more duration than members. Although this indicates that casuals use the bikes more than members, it doesn’t tell us the full story. We don’t know what is happening during this rental time period. We can not say for sure whether they are riding the bike the entire time or they take multiple stops which is why the rental times are longer. Let’s dig deeper into this by analyzing ride duration for each day of the week."
   ]
  },
  {
   "cell_type": "markdown",
   "metadata": {},
   "source": [
    "#### Daily average trip duration per user type"
   ]
  },
  {
   "cell_type": "markdown",
   "metadata": {},
   "source": [
    "Daily average trip duration will help us to find out the average usage of cyclistic bikes for each day of the week. We will first look at the data for only casual users and then for members to keep the data and the findings clear and concise."
   ]
  },
  {
   "cell_type": "markdown",
   "metadata": {},
   "source": [
    "<b>Daily average trip duration for casuals</b>"
   ]
  },
  {
   "cell_type": "code",
   "execution_count": 102,
   "metadata": {},
   "outputs": [
    {
     "data": {
      "text/plain": [
       "day_of_week\n",
       "Sunday       32.868489\n",
       "Saturday     32.145138\n",
       "Monday       27.720914\n",
       "Friday       27.269090\n",
       "Tuesday      25.089650\n",
       "Thursday     24.731568\n",
       "Wednesday    24.310349\n",
       "Name: duration, dtype: float64"
      ]
     },
     "execution_count": 102,
     "metadata": {},
     "output_type": "execute_result"
    }
   ],
   "source": [
    "# AVERAGE trip duration for CASUALS grouped by WEEKDAYS in descending order.\n",
    "CyclisticDataRaw[CyclisticDataRaw[\"member_casual\"] == \"casual\"].groupby(\"day_of_week\")[\"duration\"].mean().sort_values(ascending=False)"
   ]
  },
  {
   "cell_type": "markdown",
   "metadata": {},
   "source": [
    "The data is arranged in descending order based on average trip duration. It shows that Sunday and Saturday, the average trip duration for casual users is significantly higher than any other day. Whereas it is the lowest on Wednesday and Thursday."
   ]
  },
  {
   "cell_type": "markdown",
   "metadata": {},
   "source": [
    "<b>Daily average trip duration for members</b>"
   ]
  },
  {
   "cell_type": "code",
   "execution_count": 103,
   "metadata": {},
   "outputs": [
    {
     "data": {
      "text/plain": [
       "day_of_week\n",
       "Sunday       13.992558\n",
       "Saturday     13.940757\n",
       "Friday       12.480572\n",
       "Thursday     12.021554\n",
       "Tuesday      12.015191\n",
       "Wednesday    11.949102\n",
       "Monday       11.904235\n",
       "Name: duration, dtype: float64"
      ]
     },
     "execution_count": 103,
     "metadata": {},
     "output_type": "execute_result"
    }
   ],
   "source": [
    "# AVERAGE trip duration for MEMBERS grouped by WEEKDAYS in descending order.\n",
    "CyclisticDataRaw[CyclisticDataRaw[\"member_casual\"] == \"member\"].groupby(\"day_of_week\")[\"duration\"].mean().sort_values(ascending=False)"
   ]
  },
  {
   "cell_type": "code",
   "execution_count": 172,
   "metadata": {},
   "outputs": [
    {
     "data": {
      "text/html": [
       "<div>\n",
       "<style scoped>\n",
       "    .dataframe tbody tr th:only-of-type {\n",
       "        vertical-align: middle;\n",
       "    }\n",
       "\n",
       "    .dataframe tbody tr th {\n",
       "        vertical-align: top;\n",
       "    }\n",
       "\n",
       "    .dataframe thead th {\n",
       "        text-align: right;\n",
       "    }\n",
       "</style>\n",
       "<table border=\"1\" class=\"dataframe\">\n",
       "  <thead>\n",
       "    <tr style=\"text-align: right;\">\n",
       "      <th>member_casual</th>\n",
       "      <th>casual</th>\n",
       "      <th>member</th>\n",
       "    </tr>\n",
       "    <tr>\n",
       "      <th>day_of_week</th>\n",
       "      <th></th>\n",
       "      <th></th>\n",
       "    </tr>\n",
       "  </thead>\n",
       "  <tbody>\n",
       "    <tr>\n",
       "      <th>Friday</th>\n",
       "      <td>27.269090</td>\n",
       "      <td>12.480572</td>\n",
       "    </tr>\n",
       "    <tr>\n",
       "      <th>Monday</th>\n",
       "      <td>27.720914</td>\n",
       "      <td>11.904235</td>\n",
       "    </tr>\n",
       "    <tr>\n",
       "      <th>Saturday</th>\n",
       "      <td>32.145138</td>\n",
       "      <td>13.940757</td>\n",
       "    </tr>\n",
       "    <tr>\n",
       "      <th>Sunday</th>\n",
       "      <td>32.868489</td>\n",
       "      <td>13.992558</td>\n",
       "    </tr>\n",
       "    <tr>\n",
       "      <th>Thursday</th>\n",
       "      <td>24.731568</td>\n",
       "      <td>12.021554</td>\n",
       "    </tr>\n",
       "    <tr>\n",
       "      <th>Tuesday</th>\n",
       "      <td>25.089650</td>\n",
       "      <td>12.015191</td>\n",
       "    </tr>\n",
       "    <tr>\n",
       "      <th>Wednesday</th>\n",
       "      <td>24.310349</td>\n",
       "      <td>11.949102</td>\n",
       "    </tr>\n",
       "  </tbody>\n",
       "</table>\n",
       "</div>"
      ],
      "text/plain": [
       "member_casual     casual     member\n",
       "day_of_week                        \n",
       "Friday         27.269090  12.480572\n",
       "Monday         27.720914  11.904235\n",
       "Saturday       32.145138  13.940757\n",
       "Sunday         32.868489  13.992558\n",
       "Thursday       24.731568  12.021554\n",
       "Tuesday        25.089650  12.015191\n",
       "Wednesday      24.310349  11.949102"
      ]
     },
     "execution_count": 172,
     "metadata": {},
     "output_type": "execute_result"
    }
   ],
   "source": [
    "Daily_avg_trips = CyclisticDataRaw.groupby([\"day_of_week\",\"member_casual\"])[\"duration\"].mean().unstack(level=-1)\n",
    "Daily_avg_trips"
   ]
  },
  {
   "cell_type": "markdown",
   "metadata": {},
   "source": [
    "The data for members show a very consistent usage irrespective of the day of the week.\n",
    "\n",
    "Comparing the two data ranges, we can assume that casual users use cyclistic data for leisure more than regular work whereas it is opposite for members. An important thing to note here is that even though casuals use bikes less often, their average usage is way more than members which can be an important metric to keep in mind while trying to create marketing strategies."
   ]
  },
  {
   "cell_type": "markdown",
   "metadata": {},
   "source": [
    "#### Monthly average trip duration per user type"
   ]
  },
  {
   "cell_type": "markdown",
   "metadata": {},
   "source": [
    "<b>Monthly average trip duration for casuals</b>"
   ]
  },
  {
   "cell_type": "code",
   "execution_count": 104,
   "metadata": {},
   "outputs": [
    {
     "data": {
      "text/plain": [
       "month\n",
       "August       35.257254\n",
       "July         32.343486\n",
       "June         29.409673\n",
       "May          28.523238\n",
       "April        27.675768\n",
       "September    25.193754\n",
       "February     23.193610\n",
       "January      22.916536\n",
       "October      22.878261\n",
       "March        21.414704\n",
       "December     19.940120\n",
       "November     19.906423\n",
       "Name: duration, dtype: float64"
      ]
     },
     "execution_count": 104,
     "metadata": {},
     "output_type": "execute_result"
    }
   ],
   "source": [
    "# AVERAGE trip duration for CASUALS grouped by MONTHS in descending order.\n",
    "CyclisticDataRaw[CyclisticDataRaw[\"member_casual\"] == \"casual\"].groupby(\"month\")[\"duration\"].mean().sort_values(ascending=False)"
   ]
  },
  {
   "cell_type": "markdown",
   "metadata": {},
   "source": [
    "This data indicates peak usage of cyclistic services between the months of June and August which also happens to be the peak tourist season. This metric doesn’t provide us sufficient information for our current task as the high usage might be regular casual users or it could also be because of the tourists and it is generally much harder to sell any sorts of region locked memberships to the tourists as they are only residing there for a couple of days. However, it can be used to create special offers for toursists during peak tourism season to attract more customers and generate more profit during that period of time. We would need additional information regarding the customers to find out if the people using bikes at this time of the year are regular casual customers or if they are new customers."
   ]
  },
  {
   "cell_type": "markdown",
   "metadata": {},
   "source": [
    "<b>Monthly average trip duration for members</b>"
   ]
  },
  {
   "cell_type": "code",
   "execution_count": 35,
   "metadata": {},
   "outputs": [
    {
     "data": {
      "text/plain": [
       "month\n",
       "August       13.775918\n",
       "July         13.694506\n",
       "June         13.201468\n",
       "September    13.148695\n",
       "May          13.041479\n",
       "October      12.153606\n",
       "April        11.694603\n",
       "November     11.575849\n",
       "December     11.449066\n",
       "February     10.714787\n",
       "March        10.442849\n",
       "January      10.362110\n",
       "Name: duration, dtype: float64"
      ]
     },
     "execution_count": 35,
     "metadata": {},
     "output_type": "execute_result"
    }
   ],
   "source": [
    "# AVERAGE trip duration for CASUALS grouped by MONTHS in descending order.\n",
    "CyclisticDataRaw[CyclisticDataRaw[\"member_casual\"] == \"member\"].groupby(\"month\")[\"duration\"].mean().sort_values(ascending=False)"
   ]
  },
  {
   "cell_type": "markdown",
   "metadata": {},
   "source": [
    "The data for members again shows a consistent usage of cyclistic services regardless of the month."
   ]
  },
  {
   "cell_type": "code",
   "execution_count": 109,
   "metadata": {},
   "outputs": [],
   "source": [
    "Monthly_avg_trip = CyclisticDataRaw.groupby([\"month\",\"member_casual\"])[\"duration\"].mean().unstack(level=-1)"
   ]
  },
  {
   "cell_type": "markdown",
   "metadata": {},
   "source": [
    "#### Total number of trips per hour"
   ]
  },
  {
   "cell_type": "code",
   "execution_count": 36,
   "metadata": {},
   "outputs": [
    {
     "data": {
      "text/plain": [
       "hour\n",
       "17    587116\n",
       "16    514010\n",
       "18    479880\n",
       "15    405931\n",
       "19    345165\n",
       "14    344575\n",
       "13    335320\n",
       "12    330661\n",
       "8     314857\n",
       "11    286848\n",
       "7     247561\n",
       "20    243534\n",
       "10    235423\n",
       "9     234874\n",
       "21    195029\n",
       "22    156333\n",
       "6     135439\n",
       "23    105697\n",
       "0      72399\n",
       "5      45567\n",
       "1      45056\n",
       "2      26716\n",
       "3      15871\n",
       "4      14746\n",
       "Name: ride_id, dtype: int64"
      ]
     },
     "execution_count": 36,
     "metadata": {},
     "output_type": "execute_result"
    }
   ],
   "source": [
    "CyclisticDataRaw.groupby(\"hour\")[\"ride_id\"].count().sort_values(ascending=False)"
   ]
  },
  {
   "cell_type": "markdown",
   "metadata": {},
   "source": [
    "The result tells us that evening time from 4-6 pm is the busiest out of the entire day. Let us expand on this further by categorizing this data between members and casual users."
   ]
  },
  {
   "cell_type": "markdown",
   "metadata": {},
   "source": [
    "##### Total trips per hour per user type"
   ]
  },
  {
   "cell_type": "markdown",
   "metadata": {},
   "source": [
    "<b>Number of trips per hour for casuals</b>"
   ]
  },
  {
   "cell_type": "code",
   "execution_count": 37,
   "metadata": {},
   "outputs": [
    {
     "data": {
      "text/plain": [
       "hour\n",
       "17    199236\n",
       "16    182453\n",
       "18    172144\n",
       "15    159228\n",
       "14    142708\n",
       "13    136620\n",
       "12    130747\n",
       "19    127237\n",
       "11    110501\n",
       "20     91895\n",
       "10     86594\n",
       "21     77289\n",
       "8      70682\n",
       "9      69984\n",
       "22     68343\n",
       "7      52988\n",
       "23     49279\n",
       "0      36878\n",
       "6      30141\n",
       "1      23896\n",
       "2      14445\n",
       "5      11428\n",
       "3       7937\n",
       "4       5968\n",
       "Name: ride_id, dtype: int64"
      ]
     },
     "execution_count": 37,
     "metadata": {},
     "output_type": "execute_result"
    }
   ],
   "source": [
    "CyclisticDataRaw[CyclisticDataRaw[\"member_casual\"] == \"casual\"].groupby(\"hour\")[\"ride_id\"].count().sort_values(ascending=False)"
   ]
  },
  {
   "cell_type": "markdown",
   "metadata": {},
   "source": [
    "<b>Number of trips per hour for members</b>"
   ]
  },
  {
   "cell_type": "code",
   "execution_count": 38,
   "metadata": {},
   "outputs": [
    {
     "data": {
      "text/plain": [
       "hour\n",
       "17    387880\n",
       "16    331557\n",
       "18    307736\n",
       "15    246703\n",
       "8     244175\n",
       "19    217928\n",
       "14    201867\n",
       "12    199914\n",
       "13    198700\n",
       "7     194573\n",
       "11    176347\n",
       "9     164890\n",
       "20    151639\n",
       "10    148829\n",
       "21    117740\n",
       "6     105298\n",
       "22     87990\n",
       "23     56418\n",
       "0      35521\n",
       "5      34139\n",
       "1      21160\n",
       "2      12271\n",
       "4       8778\n",
       "3       7934\n",
       "Name: ride_id, dtype: int64"
      ]
     },
     "execution_count": 38,
     "metadata": {},
     "output_type": "execute_result"
    }
   ],
   "source": [
    "CyclisticDataRaw[CyclisticDataRaw[\"member_casual\"] == \"member\"].groupby(\"hour\")[\"ride_id\"].count().sort_values(ascending=False)"
   ]
  },
  {
   "cell_type": "markdown",
   "metadata": {},
   "source": [
    "<b>Comparing hourly trips per member type side by side</b>"
   ]
  },
  {
   "cell_type": "code",
   "execution_count": 171,
   "metadata": {},
   "outputs": [
    {
     "data": {
      "text/html": [
       "<div>\n",
       "<style scoped>\n",
       "    .dataframe tbody tr th:only-of-type {\n",
       "        vertical-align: middle;\n",
       "    }\n",
       "\n",
       "    .dataframe tbody tr th {\n",
       "        vertical-align: top;\n",
       "    }\n",
       "\n",
       "    .dataframe thead th {\n",
       "        text-align: right;\n",
       "    }\n",
       "</style>\n",
       "<table border=\"1\" class=\"dataframe\">\n",
       "  <thead>\n",
       "    <tr style=\"text-align: right;\">\n",
       "      <th>member_casual</th>\n",
       "      <th>casual</th>\n",
       "      <th>member</th>\n",
       "    </tr>\n",
       "    <tr>\n",
       "      <th>hour</th>\n",
       "      <th></th>\n",
       "      <th></th>\n",
       "    </tr>\n",
       "  </thead>\n",
       "  <tbody>\n",
       "    <tr>\n",
       "      <th>0</th>\n",
       "      <td>36878</td>\n",
       "      <td>35521</td>\n",
       "    </tr>\n",
       "    <tr>\n",
       "      <th>1</th>\n",
       "      <td>23896</td>\n",
       "      <td>21160</td>\n",
       "    </tr>\n",
       "    <tr>\n",
       "      <th>2</th>\n",
       "      <td>14445</td>\n",
       "      <td>12271</td>\n",
       "    </tr>\n",
       "    <tr>\n",
       "      <th>3</th>\n",
       "      <td>7937</td>\n",
       "      <td>7934</td>\n",
       "    </tr>\n",
       "    <tr>\n",
       "      <th>4</th>\n",
       "      <td>5968</td>\n",
       "      <td>8778</td>\n",
       "    </tr>\n",
       "    <tr>\n",
       "      <th>5</th>\n",
       "      <td>11428</td>\n",
       "      <td>34139</td>\n",
       "    </tr>\n",
       "    <tr>\n",
       "      <th>6</th>\n",
       "      <td>30141</td>\n",
       "      <td>105298</td>\n",
       "    </tr>\n",
       "    <tr>\n",
       "      <th>7</th>\n",
       "      <td>52988</td>\n",
       "      <td>194573</td>\n",
       "    </tr>\n",
       "    <tr>\n",
       "      <th>8</th>\n",
       "      <td>70682</td>\n",
       "      <td>244175</td>\n",
       "    </tr>\n",
       "    <tr>\n",
       "      <th>9</th>\n",
       "      <td>69984</td>\n",
       "      <td>164890</td>\n",
       "    </tr>\n",
       "    <tr>\n",
       "      <th>10</th>\n",
       "      <td>86594</td>\n",
       "      <td>148829</td>\n",
       "    </tr>\n",
       "    <tr>\n",
       "      <th>11</th>\n",
       "      <td>110501</td>\n",
       "      <td>176347</td>\n",
       "    </tr>\n",
       "    <tr>\n",
       "      <th>12</th>\n",
       "      <td>130747</td>\n",
       "      <td>199914</td>\n",
       "    </tr>\n",
       "    <tr>\n",
       "      <th>13</th>\n",
       "      <td>136620</td>\n",
       "      <td>198700</td>\n",
       "    </tr>\n",
       "    <tr>\n",
       "      <th>14</th>\n",
       "      <td>142708</td>\n",
       "      <td>201867</td>\n",
       "    </tr>\n",
       "    <tr>\n",
       "      <th>15</th>\n",
       "      <td>159228</td>\n",
       "      <td>246703</td>\n",
       "    </tr>\n",
       "    <tr>\n",
       "      <th>16</th>\n",
       "      <td>182453</td>\n",
       "      <td>331557</td>\n",
       "    </tr>\n",
       "    <tr>\n",
       "      <th>17</th>\n",
       "      <td>199236</td>\n",
       "      <td>387880</td>\n",
       "    </tr>\n",
       "    <tr>\n",
       "      <th>18</th>\n",
       "      <td>172144</td>\n",
       "      <td>307736</td>\n",
       "    </tr>\n",
       "    <tr>\n",
       "      <th>19</th>\n",
       "      <td>127237</td>\n",
       "      <td>217928</td>\n",
       "    </tr>\n",
       "    <tr>\n",
       "      <th>20</th>\n",
       "      <td>91895</td>\n",
       "      <td>151639</td>\n",
       "    </tr>\n",
       "    <tr>\n",
       "      <th>21</th>\n",
       "      <td>77289</td>\n",
       "      <td>117740</td>\n",
       "    </tr>\n",
       "    <tr>\n",
       "      <th>22</th>\n",
       "      <td>68343</td>\n",
       "      <td>87990</td>\n",
       "    </tr>\n",
       "    <tr>\n",
       "      <th>23</th>\n",
       "      <td>49279</td>\n",
       "      <td>56418</td>\n",
       "    </tr>\n",
       "  </tbody>\n",
       "</table>\n",
       "</div>"
      ],
      "text/plain": [
       "member_casual  casual  member\n",
       "hour                         \n",
       "0               36878   35521\n",
       "1               23896   21160\n",
       "2               14445   12271\n",
       "3                7937    7934\n",
       "4                5968    8778\n",
       "5               11428   34139\n",
       "6               30141  105298\n",
       "7               52988  194573\n",
       "8               70682  244175\n",
       "9               69984  164890\n",
       "10              86594  148829\n",
       "11             110501  176347\n",
       "12             130747  199914\n",
       "13             136620  198700\n",
       "14             142708  201867\n",
       "15             159228  246703\n",
       "16             182453  331557\n",
       "17             199236  387880\n",
       "18             172144  307736\n",
       "19             127237  217928\n",
       "20              91895  151639\n",
       "21              77289  117740\n",
       "22              68343   87990\n",
       "23              49279   56418"
      ]
     },
     "execution_count": 171,
     "metadata": {},
     "output_type": "execute_result"
    }
   ],
   "source": [
    "Hourly_trips = CyclisticDataRaw.groupby([\"hour\",\"member_casual\"])[\"ride_id\"].count().unstack(level=-1)\n",
    "Hourly_trips"
   ]
  },
  {
   "cell_type": "markdown",
   "metadata": {},
   "source": [
    "This data paints a more clearer picture between casuals and members. As shown by the data, the total number of trips consistently increase for both casual users and members as the day proceeds but we see a sudden spike in trips for members during the morning rush hour from 7-8 which is also the time most people leave for work. After this the total number of trips start to decline a little until we reach lunch time and soon enough we see the peek number of rides for the day around evening starting from 4pm which is when I assume people start to leave their workplaces. Let us look further into this hypothesis by diving the data between weekdays and weekends."
   ]
  },
  {
   "cell_type": "markdown",
   "metadata": {},
   "source": [
    "<b>Total trips per hour on weekdays</b>"
   ]
  },
  {
   "cell_type": "code",
   "execution_count": 170,
   "metadata": {},
   "outputs": [],
   "source": [
    "# Filter value for selecting data for only weekdays\n",
    "Weekday_Filter = (CyclisticDataRaw[\"day_of_week\"] != \"Saturday\") & (CyclisticDataRaw[\"day_of_week\"] != \"Sunday\") \n",
    "\n",
    "# Getting weekdays data\n",
    "Weekday_Rides = CyclisticDataRaw[Weekday_Filter].groupby(['hour','member_casual'])[\"ride_id\"].count().unstack(level=-1)"
   ]
  },
  {
   "cell_type": "markdown",
   "metadata": {},
   "source": [
    "As shown in the results, there is a significant difference in the number of rides between casual users and members during the morning and evening rush hour."
   ]
  },
  {
   "cell_type": "markdown",
   "metadata": {},
   "source": [
    "<b>Total trips per hour on weekends</b>"
   ]
  },
  {
   "cell_type": "code",
   "execution_count": null,
   "metadata": {},
   "outputs": [
    {
     "data": {
      "text/html": [
       "<div>\n",
       "<style scoped>\n",
       "    .dataframe tbody tr th:only-of-type {\n",
       "        vertical-align: middle;\n",
       "    }\n",
       "\n",
       "    .dataframe tbody tr th {\n",
       "        vertical-align: top;\n",
       "    }\n",
       "\n",
       "    .dataframe thead th {\n",
       "        text-align: right;\n",
       "    }\n",
       "</style>\n",
       "<table border=\"1\" class=\"dataframe\">\n",
       "  <thead>\n",
       "    <tr style=\"text-align: right;\">\n",
       "      <th>member_casual</th>\n",
       "      <th>casual</th>\n",
       "      <th>member</th>\n",
       "    </tr>\n",
       "    <tr>\n",
       "      <th>hour</th>\n",
       "      <th></th>\n",
       "      <th></th>\n",
       "    </tr>\n",
       "  </thead>\n",
       "  <tbody>\n",
       "    <tr>\n",
       "      <th>0</th>\n",
       "      <td>21235</td>\n",
       "      <td>18407</td>\n",
       "    </tr>\n",
       "    <tr>\n",
       "      <th>1</th>\n",
       "      <td>14701</td>\n",
       "      <td>12639</td>\n",
       "    </tr>\n",
       "    <tr>\n",
       "      <th>2</th>\n",
       "      <td>9084</td>\n",
       "      <td>7360</td>\n",
       "    </tr>\n",
       "    <tr>\n",
       "      <th>3</th>\n",
       "      <td>4538</td>\n",
       "      <td>4157</td>\n",
       "    </tr>\n",
       "    <tr>\n",
       "      <th>4</th>\n",
       "      <td>2678</td>\n",
       "      <td>2707</td>\n",
       "    </tr>\n",
       "    <tr>\n",
       "      <th>5</th>\n",
       "      <td>2790</td>\n",
       "      <td>4036</td>\n",
       "    </tr>\n",
       "    <tr>\n",
       "      <th>6</th>\n",
       "      <td>4852</td>\n",
       "      <td>9807</td>\n",
       "    </tr>\n",
       "    <tr>\n",
       "      <th>7</th>\n",
       "      <td>8447</td>\n",
       "      <td>17037</td>\n",
       "    </tr>\n",
       "    <tr>\n",
       "      <th>8</th>\n",
       "      <td>15576</td>\n",
       "      <td>29098</td>\n",
       "    </tr>\n",
       "    <tr>\n",
       "      <th>9</th>\n",
       "      <td>27520</td>\n",
       "      <td>43776</td>\n",
       "    </tr>\n",
       "    <tr>\n",
       "      <th>10</th>\n",
       "      <td>41029</td>\n",
       "      <td>55736</td>\n",
       "    </tr>\n",
       "    <tr>\n",
       "      <th>11</th>\n",
       "      <td>51751</td>\n",
       "      <td>64169</td>\n",
       "    </tr>\n",
       "    <tr>\n",
       "      <th>12</th>\n",
       "      <td>58831</td>\n",
       "      <td>68106</td>\n",
       "    </tr>\n",
       "    <tr>\n",
       "      <th>13</th>\n",
       "      <td>62243</td>\n",
       "      <td>67761</td>\n",
       "    </tr>\n",
       "    <tr>\n",
       "      <th>14</th>\n",
       "      <td>63694</td>\n",
       "      <td>67816</td>\n",
       "    </tr>\n",
       "    <tr>\n",
       "      <th>15</th>\n",
       "      <td>64776</td>\n",
       "      <td>68493</td>\n",
       "    </tr>\n",
       "    <tr>\n",
       "      <th>16</th>\n",
       "      <td>61829</td>\n",
       "      <td>66491</td>\n",
       "    </tr>\n",
       "    <tr>\n",
       "      <th>17</th>\n",
       "      <td>54574</td>\n",
       "      <td>63693</td>\n",
       "    </tr>\n",
       "    <tr>\n",
       "      <th>18</th>\n",
       "      <td>48008</td>\n",
       "      <td>59309</td>\n",
       "    </tr>\n",
       "    <tr>\n",
       "      <th>19</th>\n",
       "      <td>37347</td>\n",
       "      <td>47076</td>\n",
       "    </tr>\n",
       "    <tr>\n",
       "      <th>20</th>\n",
       "      <td>27258</td>\n",
       "      <td>34687</td>\n",
       "    </tr>\n",
       "    <tr>\n",
       "      <th>21</th>\n",
       "      <td>23245</td>\n",
       "      <td>27968</td>\n",
       "    </tr>\n",
       "    <tr>\n",
       "      <th>22</th>\n",
       "      <td>22037</td>\n",
       "      <td>23392</td>\n",
       "    </tr>\n",
       "    <tr>\n",
       "      <th>23</th>\n",
       "      <td>18182</td>\n",
       "      <td>17802</td>\n",
       "    </tr>\n",
       "  </tbody>\n",
       "</table>\n",
       "</div>"
      ],
      "text/plain": [
       "member_casual  casual  member\n",
       "hour                         \n",
       "0               21235   18407\n",
       "1               14701   12639\n",
       "2                9084    7360\n",
       "3                4538    4157\n",
       "4                2678    2707\n",
       "5                2790    4036\n",
       "6                4852    9807\n",
       "7                8447   17037\n",
       "8               15576   29098\n",
       "9               27520   43776\n",
       "10              41029   55736\n",
       "11              51751   64169\n",
       "12              58831   68106\n",
       "13              62243   67761\n",
       "14              63694   67816\n",
       "15              64776   68493\n",
       "16              61829   66491\n",
       "17              54574   63693\n",
       "18              48008   59309\n",
       "19              37347   47076\n",
       "20              27258   34687\n",
       "21              23245   27968\n",
       "22              22037   23392\n",
       "23              18182   17802"
      ]
     },
     "execution_count": 41,
     "metadata": {},
     "output_type": "execute_result"
    }
   ],
   "source": [
    "# Filter value for selecting data for only weekends\n",
    "Weekend_Filter= (CyclisticDataRaw[\"day_of_week\"] == \"Saturday\") | (CyclisticDataRaw[\"day_of_week\"] == \"Sunday\") \n",
    "\n",
    "# Getting weekend data\n",
    "Weekend_rides = CyclisticDataRaw[Weekend_Filter].groupby(['hour','member_casual'])[\"ride_id\"].count().unstack(level=-1) "
   ]
  },
  {
   "cell_type": "markdown",
   "metadata": {},
   "source": [
    "Here the number of trips between casual users and members are quite similar throughout the day.\n",
    "\n",
    "From the data, we can now almost clearly signify that members use cyclistic bikes to commute to and fro from work as the number of trips during weekdays surpass the number of trips on weekends by a large margin. During the weekends, the number of trips are similar between casuals and members which can signify that the usage is for leisure and fun during the weekend."
   ]
  },
  {
   "cell_type": "markdown",
   "metadata": {},
   "source": [
    "##### Visuals to understand analysis"
   ]
  },
  {
   "cell_type": "code",
   "execution_count": 173,
   "metadata": {},
   "outputs": [],
   "source": [
    "# Converting months and days from names to numbers\n",
    "CyclisticDataRaw[\"month\"] = CyclisticDataRaw[\"started_at\"].dt.month # extract month\n",
    "\n",
    "CyclisticDataRaw[\"day_of_week\"] = CyclisticDataRaw[\"started_at\"].dt.weekday # extract day"
   ]
  },
  {
   "cell_type": "markdown",
   "metadata": {},
   "source": [
    "<b>Average Trip Duration by Weekdays and Membership Type</b>"
   ]
  },
  {
   "cell_type": "code",
   "execution_count": 174,
   "metadata": {},
   "outputs": [
    {
     "data": {
      "image/png": "[encoded data removed]",
      "text/plain": [
       "<Figure size 1500x600 with 1 Axes>"
      ]
     },
     "metadata": {},
     "output_type": "display_data"
    }
   ],
   "source": [
    "Daily_avg_trips.plot(kind=\"bar\",figsize=(15, 6), width=0.6)\n",
    "plt.xticks([0,1,2,3,4,5,6],[\"Monday\", \"Tuesday\", \"Wednesday\", \"Thursday\", \"Friday\", \"Saturday\", \"Sunday\"], rotation=0)\n",
    "plt.xlabel(\"Weekdays\")\n",
    "plt.ylabel(\"Average Trip Duration\")\n",
    "plt.title(\"Average Trip Duration by Weekdays and Membership Type\")\n",
    "plt.legend(title=\"Member Type\")\n",
    "plt.show()"
   ]
  },
  {
   "cell_type": "markdown",
   "metadata": {},
   "source": [
    "<b>Average Trip Duration by Month and Membership Type</b>"
   ]
  },
  {
   "cell_type": "code",
   "execution_count": 175,
   "metadata": {},
   "outputs": [
    {
     "data": {
      "image/png": "[encoded data removed]",
      "text/plain": [
       "<Figure size 1500x600 with 1 Axes>"
      ]
     },
     "metadata": {},
     "output_type": "display_data"
    }
   ],
   "source": [
    "Monthly_avg_trip.plot(kind=\"bar\", figsize=(15, 6), width=0.8)\n",
    "plt.xticks([0,1,2,3,4,5,6,7,8,9,10,11],[\"Jan\",\"Feb\",\"Mar\",\"Apr\",\"May\",\"Jun\",\"Jul\",\"Aug\",\"Sep\",\"Oct\",\"Nov\",\"Dec\"], rotation=0)\n",
    "plt.xlabel(\"Month\")\n",
    "plt.ylabel(\"Average Trip Duration\")\n",
    "plt.title(\"Average Trip Duration by Month and Membership Type\")\n",
    "plt.legend(title = \"Member Type\")\n",
    "plt.show()\n"
   ]
  },
  {
   "cell_type": "markdown",
   "metadata": {},
   "source": [
    "<b>Total Trips by Hour and Membership Type</b>"
   ]
  },
  {
   "cell_type": "code",
   "execution_count": 176,
   "metadata": {},
   "outputs": [
    {
     "data": {
      "image/png": "[encoded data removed]",
      "text/plain": [
       "<Figure size 1500x600 with 1 Axes>"
      ]
     },
     "metadata": {},
     "output_type": "display_data"
    }
   ],
   "source": [
    "#Plot graph\n",
    "Hourly_trips.plot(kind='bar', figsize=(15, 6), width=0.8)\n",
    "plt.xlabel(\"Hour of the Day\")\n",
    "plt.ylabel(\"Number of Trips\")\n",
    "plt.title(\"Total Trips by Hour and Membership Type\")\n",
    "plt.legend(title=\"Member Type\")\n",
    "plt.xticks(rotation=0)\n",
    "plt.show()"
   ]
  },
  {
   "cell_type": "markdown",
   "metadata": {},
   "source": [
    "#### Analysis Summary"
   ]
  },
  {
   "cell_type": "markdown",
   "metadata": {},
   "source": [
    "<b>Data-Driven Insights</b>"
   ]
  },
  {
   "cell_type": "markdown",
   "metadata": {},
   "source": [
    "<b>Casuals</b>\n",
    "\n",
    "- Take rides for longer duration on an average than members.\n",
    "- Rent more bikes during afternoon and evening.\n",
    "- Rent bikes for even longer duration during weekends.\n",
    "- Most active during the summer season.\n",
    "- Least active during winter season."
   ]
  },
  {
   "cell_type": "markdown",
   "metadata": {},
   "source": [
    "<b>Members</b>\n",
    "\n",
    "- Take more total number of rides than casuals but have lower average ride duration.\n",
    "- Rent bikes more during morning and evening rush hours.\n",
    "- Rent more bikes during weekdays and less on weekends.\n",
    "- Have no favorite time period. They are consistently active through out the year."
   ]
  },
  {
   "cell_type": "markdown",
   "metadata": {},
   "source": [
    "<b>Speculated Insights</b>\n",
    "\n",
    "Using the above mentioned data driven insights, we can speculate qualitative insights about the behaviour of each of the user type as mentioned below:"
   ]
  },
  {
   "cell_type": "markdown",
   "metadata": {},
   "source": [
    "<b>Casuals</b>\n",
    "\n",
    "- Use bikes mostly for leisure activities.\n",
    "- Don’t use bikes regularly but keep it as an alternative transport.\n",
    "- Don’t have the requirements of the perks that the membership offers.\n",
    "\n",
    "<b>Members</b>\n",
    "\n",
    "- Use bikes to commute to work regularly.\n",
    "- Use bikes as a main source of transport for daily commuting.\n",
    "- Have enough regular usage to justify paying for an annual membership."
   ]
  },
  {
   "cell_type": "markdown",
   "metadata": {},
   "source": [
    "#### Deliverable: Acting on insights\n",
    "\n",
    "<b>Collect additional data:</b>\n",
    "\n",
    "Building an effective marketing campaign requires time, effort and money and after putting in all of the work, we don’t want it to perform poorly. Keeping this in mind, additional quantitative and qualitative data should be collected to give us an even better understanding about the needs of our users and also provide us more confidence regarding our marking strategies by confirming our current speculations.\n",
    "\n",
    "To understand different users’ behaviour, we need qualitative data which can be gathered by surveying our customers and finding out about things such as the features that they like the most and the features that want to be improved or added, their main purpose of using bikes and provide them a list of external factors to choose from that might affect their decision about using a bike.\n",
    "\n",
    "To gain further quantitative insights, we need more data variables such as age, gender, financial data, availability of bikes."
   ]
  },
  {
   "cell_type": "markdown",
   "metadata": {},
   "source": [
    "<b>Act on current insights:</b>\n",
    "\n",
    "These are the recommended steps to move forward with based on the insights gained from currently available data. Moving forward with these strategies have some risk involved and might not guarantee 100% success.\n",
    "\n",
    "- Dynamic pricing: Instead of a single static price throughout the day, introduce dynamic pricing where the price depends on the demand. This will make the prices higher during peak hours. Relieve users with membership from this dynamic pricing model so that there is a clear monetary benefit of buying a membership.\n",
    "\n",
    "- New membership models: There are only two pricing models as of now which consists of single day passes and annual memberships. Provide users with more options by adding new subscriptions such as monthly subscriptions or a pricing model where users pay depending on the duration of rental or distance traveled. This will help the users who use bikes frequently but not regularly enough to justify paying for an annual membership.\n",
    "\n",
    "- Additional membership benefits: Provide more benefits of buying a membership such as a certain number of free rides per month and reserved rides at docking stations. Casual users tend to ride for longer hence new benefits could be added which would incentivise longer rides.\n",
    "\n",
    "- More user engagement: New features which would display metrics such as calories burnt and carbon emissions saved can be added to the cyclistic app. This will help users have a sense of achievement after finishing a ride and will encourage and motivate them to ride more."
   ]
  }
 ],
 "metadata": {
  "kernelspec": {
   "display_name": "base",
   "language": "python",
   "name": "python3"
  },
  "language_info": {
   "codemirror_mode": {
    "name": "ipython",
    "version": 3
   },
   "file_extension": ".py",
   "mimetype": "text/x-python",
   "name": "python",
   "nbconvert_exporter": "python",
   "pygments_lexer": "ipython3",
   "version": "3.12.4"
  }
 },
 "nbformat": 4,
 "nbformat_minor": 2
}
